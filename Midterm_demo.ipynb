{
  "cells": [
    {
      "metadata": {},
      "cell_type": "markdown",
      "source": "請寫一個程式，輸入兩個三位數a與b，輸出介於a與b(不含a與b)所有數字不重複的三位數共有幾個。\n\n例如: 若輸入為 100 999，所有數字不重複的三位數 102，103，…，987 共有648個，則輸出 648。\n\n例如: 若輸入為 200 210，所有數字不重複的三位數 201，203，…，209 共有8個，則輸出 8。"
    },
    {
      "metadata": {
        "trusted": true
      },
      "cell_type": "code",
      "source": "def no_rep(i):\n    return len(set(str(i)))==3\na,b=map(int,input().split())\nprint(len([i for i in range(a+1,b) if no_rep(i)]))",
      "execution_count": 7,
      "outputs": [
        {
          "output_type": "stream",
          "name": "stdout",
          "text": "100 999\n648\n"
        }
      ]
    },
    {
      "metadata": {},
      "cell_type": "markdown",
      "source": "請寫一個程式，讀入數個正整數，並求出它們的最小公倍數。\n\n例如: 若輸入為 72 24 45 36， 它們的最小公倍數是 360， 則輸出 360。\n\n例如: 若輸入為 12 15 20， 它們的最小公倍數是 60， 則輸出 60。"
    },
    {
      "metadata": {
        "trusted": false
      },
      "cell_type": "code",
      "source": "from math import gcd\nnlist = list(map(int,input().split()))\nans = 1\nfor i in nlist:\n    ans = ans * i // gcd(ans,i)\nprint(ans)",
      "execution_count": 1,
      "outputs": [
        {
          "name": "stdout",
          "output_type": "stream",
          "text": "12 15 20\n60\n"
        }
      ]
    },
    {
      "metadata": {},
      "cell_type": "markdown",
      "source": "請寫一個程式，輸入一個大於1的正整數 $n$，輸出 $x^n$ 除以 $(x^2-x-1)$ 的餘式。\n\n例如: 若輸入為 2，則輸出 x+1；若輸入為 3，則輸出 2x+1。\n$x^n-x^{n-1}-x^{n-2}=0 (\\mod x^2-x-1)$"
    },
    {
      "metadata": {
        "trusted": false
      },
      "cell_type": "code",
      "source": "n=int(input())\na,b=0,1\nfor i in range(n-1):\n    a,b=b,a+b\nprint(b,'x +',a)",
      "execution_count": 6,
      "outputs": [
        {
          "name": "stdout",
          "output_type": "stream",
          "text": "3\n2 x + 1\n"
        }
      ]
    },
    {
      "metadata": {
        "collapsed": true
      },
      "cell_type": "markdown",
      "source": "請寫一個程式，輸入兩個正整數n與d，輸出n個變數且次數不大於d的單項式(係數為1)有幾個。\n\n例如: 2個變數且次數不大於3的單項式有 $1,x,y,x^2,xy,y^2,x^3,x^2y,xy^2,y^3$ 共10個， 若輸入為 2 3， 則輸出 10。\n\n$H^{n+1}_d=C^{n+d}_d=C^{n+d}_n$"
    },
    {
      "metadata": {
        "trusted": false
      },
      "cell_type": "code",
      "source": "n,d=map(int,input().split())\nans=1\nfor i in range(1,n+1):\n    ans=ans*(n+d-i+1)//i\nprint(ans)",
      "execution_count": 7,
      "outputs": [
        {
          "name": "stdout",
          "output_type": "stream",
          "text": "2 3\n10\n"
        }
      ]
    },
    {
      "metadata": {},
      "cell_type": "markdown",
      "source": "請寫一個程式，輸入坐標平面上P點的座標及直線$ax+by+c=0$的三個係數$a,b,c$, 輸出P點對此直線的垂足坐標。(輸入輸出皆可用浮點數)\n\n例如: 點$(3,3)$ 對直線 $x+y+2=0$的垂足坐標是 $(-1,-1)$，若輸入為 3 3 1 1 2，則輸出 (-1,-1)。\n\n$$x_0=x-a\\frac{ax+by+c}{a^2+b^2}$$\n$$y_0=y-b\\frac{ax+by+c}{a^2+b^2}$$"
    },
    {
      "metadata": {
        "trusted": false
      },
      "cell_type": "code",
      "source": "x,y,a,b,c=map(float,input().split())\nr=-(a*x+b*y+c)/(a*a+b*b)\nprint('(',x+a*r,',',y+b*r,')')",
      "execution_count": 8,
      "outputs": [
        {
          "name": "stdout",
          "output_type": "stream",
          "text": "3 3 1 1 2\n( -1.0 , -1.0 )\n"
        }
      ]
    },
    {
      "metadata": {},
      "cell_type": "markdown",
      "source": "請寫一個程式，隨機產生8個介於(含)100與200的整數(不要求相異)，輸出這8個數，然後將這8個數從小排到大輸出，然後再將這8個數洗亂輸出。"
    },
    {
      "metadata": {
        "trusted": false
      },
      "cell_type": "code",
      "source": "from random import randint, shuffle\nrlist=[randint(100,200) for i in range(8)]\nprint(rlist)\nrlist.sort()\nprint(rlist)\nshuffle(rlist)\nprint(rlist)",
      "execution_count": 43,
      "outputs": [
        {
          "name": "stdout",
          "output_type": "stream",
          "text": "[133, 200, 168, 153, 128, 108, 193, 130]\n[108, 128, 130, 133, 153, 168, 193, 200]\n[133, 200, 153, 193, 128, 130, 108, 168]\n"
        }
      ]
    },
    {
      "metadata": {
        "trusted": false
      },
      "cell_type": "code",
      "source": "help('random')",
      "execution_count": 44,
      "outputs": [
        {
          "name": "stdout",
          "output_type": "stream",
          "text": "Help on module random:\n\nNAME\n    random - Random variable generators.\n\nMODULE REFERENCE\n    https://docs.python.org/3.6/library/random\n    \n    The following documentation is automatically generated from the Python\n    source files.  It may be incomplete, incorrect or include features that\n    are considered implementation detail and may vary between Python\n    implementations.  When in doubt, consult the module reference at the\n    location listed above.\n\nDESCRIPTION\n        integers\n        --------\n               uniform within range\n    \n        sequences\n        ---------\n               pick random element\n               pick random sample\n               pick weighted random sample\n               generate random permutation\n    \n        distributions on the real line:\n        ------------------------------\n               uniform\n               triangular\n               normal (Gaussian)\n               lognormal\n               negative exponential\n               gamma\n               beta\n               pareto\n               Weibull\n    \n        distributions on the circle (angles 0 to 2pi)\n        ---------------------------------------------\n               circular uniform\n               von Mises\n    \n    General notes on the underlying Mersenne Twister core generator:\n    \n    * The period is 2**19937-1.\n    * It is one of the most extensively tested generators in existence.\n    * The random() method is implemented in C, executes in a single Python step,\n      and is, therefore, threadsafe.\n\nCLASSES\n    _random.Random(builtins.object)\n        Random\n            SystemRandom\n    \n    class Random(_random.Random)\n     |  Random number generator base class used by bound module functions.\n     |  \n     |  Used to instantiate instances of Random to get generators that don't\n     |  share state.\n     |  \n     |  Class Random can also be subclassed if you want to use a different basic\n     |  generator of your own devising: in that case, override the following\n     |  methods:  random(), seed(), getstate(), and setstate().\n     |  Optionally, implement a getrandbits() method so that randrange()\n     |  can cover arbitrarily large ranges.\n     |  \n     |  Method resolution order:\n     |      Random\n     |      _random.Random\n     |      builtins.object\n     |  \n     |  Methods defined here:\n     |  \n     |  __getstate__(self)\n     |      # Issue 17489: Since __reduce__ was defined to fix #759889 this is no\n     |      # longer called; we leave it here because it has been here since random was\n     |      # rewritten back in 2001 and why risk breaking something.\n     |  \n     |  __init__(self, x=None)\n     |      Initialize an instance.\n     |      \n     |      Optional argument x controls seeding, as for Random.seed().\n     |  \n     |  __reduce__(self)\n     |      helper for pickle\n     |  \n     |  __setstate__(self, state)\n     |  \n     |  betavariate(self, alpha, beta)\n     |      Beta distribution.\n     |      \n     |      Conditions on the parameters are alpha > 0 and beta > 0.\n     |      Returned values range between 0 and 1.\n     |  \n     |  choice(self, seq)\n     |      Choose a random element from a non-empty sequence.\n     |  \n     |  choices(self, population, weights=None, *, cum_weights=None, k=1)\n     |      Return a k sized list of population elements chosen with replacement.\n     |      \n     |      If the relative weights or cumulative weights are not specified,\n     |      the selections are made with equal probability.\n     |  \n     |  expovariate(self, lambd)\n     |      Exponential distribution.\n     |      \n     |      lambd is 1.0 divided by the desired mean.  It should be\n     |      nonzero.  (The parameter would be called \"lambda\", but that is\n     |      a reserved word in Python.)  Returned values range from 0 to\n     |      positive infinity if lambd is positive, and from negative\n     |      infinity to 0 if lambd is negative.\n     |  \n     |  gammavariate(self, alpha, beta)\n     |      Gamma distribution.  Not the gamma function!\n     |      \n     |      Conditions on the parameters are alpha > 0 and beta > 0.\n     |      \n     |      The probability distribution function is:\n     |      \n     |                  x ** (alpha - 1) * math.exp(-x / beta)\n     |        pdf(x) =  --------------------------------------\n     |                    math.gamma(alpha) * beta ** alpha\n     |  \n     |  gauss(self, mu, sigma)\n     |      Gaussian distribution.\n     |      \n     |      mu is the mean, and sigma is the standard deviation.  This is\n     |      slightly faster than the normalvariate() function.\n     |      \n     |      Not thread-safe without a lock around calls.\n     |  \n     |  getstate(self)\n     |      Return internal state; can be passed to setstate() later.\n     |  \n     |  lognormvariate(self, mu, sigma)\n     |      Log normal distribution.\n     |      \n     |      If you take the natural logarithm of this distribution, you'll get a\n     |      normal distribution with mean mu and standard deviation sigma.\n     |      mu can have any value, and sigma must be greater than zero.\n     |  \n     |  normalvariate(self, mu, sigma)\n     |      Normal distribution.\n     |      \n     |      mu is the mean, and sigma is the standard deviation.\n     |  \n     |  paretovariate(self, alpha)\n     |      Pareto distribution.  alpha is the shape parameter.\n     |  \n     |  randint(self, a, b)\n     |      Return random integer in range [a, b], including both end points.\n     |  \n     |  randrange(self, start, stop=None, step=1, _int=<class 'int'>)\n     |      Choose a random item from range(start, stop[, step]).\n     |      \n     |      This fixes the problem with randint() which includes the\n     |      endpoint; in Python this is usually not what you want.\n     |  \n     |  sample(self, population, k)\n     |      Chooses k unique random elements from a population sequence or set.\n     |      \n     |      Returns a new list containing elements from the population while\n     |      leaving the original population unchanged.  The resulting list is\n     |      in selection order so that all sub-slices will also be valid random\n     |      samples.  This allows raffle winners (the sample) to be partitioned\n     |      into grand prize and second place winners (the subslices).\n     |      \n     |      Members of the population need not be hashable or unique.  If the\n     |      population contains repeats, then each occurrence is a possible\n     |      selection in the sample.\n     |      \n     |      To choose a sample in a range of integers, use range as an argument.\n     |      This is especially fast and space efficient for sampling from a\n     |      large population:   sample(range(10000000), 60)\n     |  \n     |  seed(self, a=None, version=2)\n     |      Initialize internal state from hashable object.\n     |      \n     |      None or no argument seeds from current time or from an operating\n     |      system specific randomness source if available.\n     |      \n     |      If *a* is an int, all bits are used.\n     |      \n     |      For version 2 (the default), all of the bits are used if *a* is a str,\n     |      bytes, or bytearray.  For version 1 (provided for reproducing random\n     |      sequences from older versions of Python), the algorithm for str and\n     |      bytes generates a narrower range of seeds.\n     |  \n     |  setstate(self, state)\n     |      Restore internal state from object returned by getstate().\n     |  \n     |  shuffle(self, x, random=None)\n     |      Shuffle list x in place, and return None.\n     |      \n     |      Optional argument random is a 0-argument function returning a\n     |      random float in [0.0, 1.0); if it is the default None, the\n     |      standard random.random will be used.\n     |  \n     |  triangular(self, low=0.0, high=1.0, mode=None)\n     |      Triangular distribution.\n     |      \n     |      Continuous distribution bounded by given lower and upper limits,\n     |      and having a given mode value in-between.\n     |      \n     |      http://en.wikipedia.org/wiki/Triangular_distribution\n     |  \n     |  uniform(self, a, b)\n     |      Get a random number in the range [a, b) or [a, b] depending on rounding.\n     |  \n     |  vonmisesvariate(self, mu, kappa)\n     |      Circular data distribution.\n     |      \n     |      mu is the mean angle, expressed in radians between 0 and 2*pi, and\n     |      kappa is the concentration parameter, which must be greater than or\n     |      equal to zero.  If kappa is equal to zero, this distribution reduces\n     |      to a uniform random angle over the range 0 to 2*pi.\n     |  \n     |  weibullvariate(self, alpha, beta)\n     |      Weibull distribution.\n     |      \n     |      alpha is the scale parameter and beta is the shape parameter.\n     |  \n     |  ----------------------------------------------------------------------\n     |  Data descriptors defined here:\n     |  \n     |  __dict__\n     |      dictionary for instance variables (if defined)\n     |  \n     |  __weakref__\n     |      list of weak references to the object (if defined)\n     |  \n     |  ----------------------------------------------------------------------\n     |  Data and other attributes defined here:\n     |  \n     |  VERSION = 3\n     |  \n     |  ----------------------------------------------------------------------\n     |  Methods inherited from _random.Random:\n     |  \n     |  __getattribute__(self, name, /)\n     |      Return getattr(self, name).\n     |  \n     |  __new__(*args, **kwargs) from builtins.type\n     |      Create and return a new object.  See help(type) for accurate signature.\n     |  \n     |  getrandbits(...)\n     |      getrandbits(k) -> x.  Generates an int with k random bits.\n     |  \n     |  random(...)\n     |      random() -> x in the interval [0, 1).\n    \n    class SystemRandom(Random)\n     |  Alternate random number generator using sources provided\n     |  by the operating system (such as /dev/urandom on Unix or\n     |  CryptGenRandom on Windows).\n     |  \n     |   Not available on all systems (see os.urandom() for details).\n     |  \n     |  Method resolution order:\n     |      SystemRandom\n     |      Random\n     |      _random.Random\n     |      builtins.object\n     |  \n     |  Methods defined here:\n     |  \n     |  getrandbits(self, k)\n     |      getrandbits(k) -> x.  Generates an int with k random bits.\n     |  \n     |  getstate = _notimplemented(self, *args, **kwds)\n     |  \n     |  random(self)\n     |      Get the next random number in the range [0.0, 1.0).\n     |  \n     |  seed(self, *args, **kwds)\n     |      Stub method.  Not used for a system random number generator.\n     |  \n     |  setstate = _notimplemented(self, *args, **kwds)\n     |  \n     |  ----------------------------------------------------------------------\n     |  Methods inherited from Random:\n     |  \n     |  __getstate__(self)\n     |      # Issue 17489: Since __reduce__ was defined to fix #759889 this is no\n     |      # longer called; we leave it here because it has been here since random was\n     |      # rewritten back in 2001 and why risk breaking something.\n     |  \n     |  __init__(self, x=None)\n     |      Initialize an instance.\n     |      \n     |      Optional argument x controls seeding, as for Random.seed().\n     |  \n     |  __reduce__(self)\n     |      helper for pickle\n     |  \n     |  __setstate__(self, state)\n     |  \n     |  betavariate(self, alpha, beta)\n     |      Beta distribution.\n     |      \n     |      Conditions on the parameters are alpha > 0 and beta > 0.\n     |      Returned values range between 0 and 1.\n     |  \n     |  choice(self, seq)\n     |      Choose a random element from a non-empty sequence.\n     |  \n     |  choices(self, population, weights=None, *, cum_weights=None, k=1)\n     |      Return a k sized list of population elements chosen with replacement.\n     |      \n     |      If the relative weights or cumulative weights are not specified,\n     |      the selections are made with equal probability.\n     |  \n     |  expovariate(self, lambd)\n     |      Exponential distribution.\n     |      \n     |      lambd is 1.0 divided by the desired mean.  It should be\n     |      nonzero.  (The parameter would be called \"lambda\", but that is\n     |      a reserved word in Python.)  Returned values range from 0 to\n     |      positive infinity if lambd is positive, and from negative\n     |      infinity to 0 if lambd is negative.\n     |  \n     |  gammavariate(self, alpha, beta)\n     |      Gamma distribution.  Not the gamma function!\n     |      \n     |      Conditions on the parameters are alpha > 0 and beta > 0.\n     |      \n     |      The probability distribution function is:\n     |      \n     |                  x ** (alpha - 1) * math.exp(-x / beta)\n     |        pdf(x) =  --------------------------------------\n     |                    math.gamma(alpha) * beta ** alpha\n     |  \n     |  gauss(self, mu, sigma)\n     |      Gaussian distribution.\n     |      \n     |      mu is the mean, and sigma is the standard deviation.  This is\n     |      slightly faster than the normalvariate() function.\n     |      \n     |      Not thread-safe without a lock around calls.\n     |  \n     |  lognormvariate(self, mu, sigma)\n     |      Log normal distribution.\n     |      \n     |      If you take the natural logarithm of this distribution, you'll get a\n     |      normal distribution with mean mu and standard deviation sigma.\n     |      mu can have any value, and sigma must be greater than zero.\n     |  \n     |  normalvariate(self, mu, sigma)\n     |      Normal distribution.\n     |      \n     |      mu is the mean, and sigma is the standard deviation.\n     |  \n     |  paretovariate(self, alpha)\n     |      Pareto distribution.  alpha is the shape parameter.\n     |  \n     |  randint(self, a, b)\n     |      Return random integer in range [a, b], including both end points.\n     |  \n     |  randrange(self, start, stop=None, step=1, _int=<class 'int'>)\n     |      Choose a random item from range(start, stop[, step]).\n     |      \n     |      This fixes the problem with randint() which includes the\n     |      endpoint; in Python this is usually not what you want.\n     |  \n     |  sample(self, population, k)\n     |      Chooses k unique random elements from a population sequence or set.\n     |      \n     |      Returns a new list containing elements from the population while\n     |      leaving the original population unchanged.  The resulting list is\n     |      in selection order so that all sub-slices will also be valid random\n     |      samples.  This allows raffle winners (the sample) to be partitioned\n     |      into grand prize and second place winners (the subslices).\n     |      \n     |      Members of the population need not be hashable or unique.  If the\n     |      population contains repeats, then each occurrence is a possible\n     |      selection in the sample.\n     |      \n     |      To choose a sample in a range of integers, use range as an argument.\n     |      This is especially fast and space efficient for sampling from a\n     |      large population:   sample(range(10000000), 60)\n     |  \n     |  shuffle(self, x, random=None)\n     |      Shuffle list x in place, and return None.\n     |      \n     |      Optional argument random is a 0-argument function returning a\n     |      random float in [0.0, 1.0); if it is the default None, the\n     |      standard random.random will be used.\n     |  \n     |  triangular(self, low=0.0, high=1.0, mode=None)\n     |      Triangular distribution.\n     |      \n     |      Continuous distribution bounded by given lower and upper limits,\n     |      and having a given mode value in-between.\n     |      \n     |      http://en.wikipedia.org/wiki/Triangular_distribution\n     |  \n     |  uniform(self, a, b)\n     |      Get a random number in the range [a, b) or [a, b] depending on rounding.\n     |  \n     |  vonmisesvariate(self, mu, kappa)\n     |      Circular data distribution.\n     |      \n     |      mu is the mean angle, expressed in radians between 0 and 2*pi, and\n     |      kappa is the concentration parameter, which must be greater than or\n     |      equal to zero.  If kappa is equal to zero, this distribution reduces\n     |      to a uniform random angle over the range 0 to 2*pi.\n     |  \n     |  weibullvariate(self, alpha, beta)\n     |      Weibull distribution.\n     |      \n     |      alpha is the scale parameter and beta is the shape parameter.\n     |  \n     |  ----------------------------------------------------------------------\n     |  Data descriptors inherited from Random:\n     |  \n     |  __dict__\n     |      dictionary for instance variables (if defined)\n     |  \n     |  __weakref__\n     |      list of weak references to the object (if defined)\n     |  \n     |  ----------------------------------------------------------------------\n     |  Data and other attributes inherited from Random:\n     |  \n     |  VERSION = 3\n     |  \n     |  ----------------------------------------------------------------------\n     |  Methods inherited from _random.Random:\n     |  \n     |  __getattribute__(self, name, /)\n     |      Return getattr(self, name).\n     |  \n     |  __new__(*args, **kwargs) from builtins.type\n     |      Create and return a new object.  See help(type) for accurate signature.\n\nFUNCTIONS\n    betavariate(alpha, beta) method of Random instance\n        Beta distribution.\n        \n        Conditions on the parameters are alpha > 0 and beta > 0.\n        Returned values range between 0 and 1.\n    \n    choice(seq) method of Random instance\n        Choose a random element from a non-empty sequence.\n    \n    choices(population, weights=None, *, cum_weights=None, k=1) method of Random instance\n        Return a k sized list of population elements chosen with replacement.\n        \n        If the relative weights or cumulative weights are not specified,\n        the selections are made with equal probability.\n    \n    expovariate(lambd) method of Random instance\n        Exponential distribution.\n        \n        lambd is 1.0 divided by the desired mean.  It should be\n        nonzero.  (The parameter would be called \"lambda\", but that is\n        a reserved word in Python.)  Returned values range from 0 to\n        positive infinity if lambd is positive, and from negative\n        infinity to 0 if lambd is negative.\n    \n    gammavariate(alpha, beta) method of Random instance\n        Gamma distribution.  Not the gamma function!\n        \n        Conditions on the parameters are alpha > 0 and beta > 0.\n        \n        The probability distribution function is:\n        \n                    x ** (alpha - 1) * math.exp(-x / beta)\n          pdf(x) =  --------------------------------------\n                      math.gamma(alpha) * beta ** alpha\n    \n    gauss(mu, sigma) method of Random instance\n        Gaussian distribution.\n        \n        mu is the mean, and sigma is the standard deviation.  This is\n        slightly faster than the normalvariate() function.\n        \n        Not thread-safe without a lock around calls.\n    \n    getrandbits(...) method of Random instance\n        getrandbits(k) -> x.  Generates an int with k random bits.\n    \n    getstate() method of Random instance\n        Return internal state; can be passed to setstate() later.\n    \n    lognormvariate(mu, sigma) method of Random instance\n        Log normal distribution.\n        \n        If you take the natural logarithm of this distribution, you'll get a\n        normal distribution with mean mu and standard deviation sigma.\n        mu can have any value, and sigma must be greater than zero.\n    \n    normalvariate(mu, sigma) method of Random instance\n        Normal distribution.\n        \n        mu is the mean, and sigma is the standard deviation.\n    \n    paretovariate(alpha) method of Random instance\n        Pareto distribution.  alpha is the shape parameter.\n    \n    randint(a, b) method of Random instance\n        Return random integer in range [a, b], including both end points.\n    \n    random(...) method of Random instance\n        random() -> x in the interval [0, 1).\n    \n    randrange(start, stop=None, step=1, _int=<class 'int'>) method of Random instance\n        Choose a random item from range(start, stop[, step]).\n        \n        This fixes the problem with randint() which includes the\n        endpoint; in Python this is usually not what you want.\n    \n    sample(population, k) method of Random instance\n        Chooses k unique random elements from a population sequence or set.\n        \n        Returns a new list containing elements from the population while\n        leaving the original population unchanged.  The resulting list is\n        in selection order so that all sub-slices will also be valid random\n        samples.  This allows raffle winners (the sample) to be partitioned\n        into grand prize and second place winners (the subslices).\n        \n        Members of the population need not be hashable or unique.  If the\n        population contains repeats, then each occurrence is a possible\n        selection in the sample.\n        \n        To choose a sample in a range of integers, use range as an argument.\n        This is especially fast and space efficient for sampling from a\n        large population:   sample(range(10000000), 60)\n    \n    seed(a=None, version=2) method of Random instance\n        Initialize internal state from hashable object.\n        \n        None or no argument seeds from current time or from an operating\n        system specific randomness source if available.\n        \n        If *a* is an int, all bits are used.\n        \n        For version 2 (the default), all of the bits are used if *a* is a str,\n        bytes, or bytearray.  For version 1 (provided for reproducing random\n        sequences from older versions of Python), the algorithm for str and\n        bytes generates a narrower range of seeds.\n    \n    setstate(state) method of Random instance\n        Restore internal state from object returned by getstate().\n    \n    shuffle(x, random=None) method of Random instance\n        Shuffle list x in place, and return None.\n        \n        Optional argument random is a 0-argument function returning a\n        random float in [0.0, 1.0); if it is the default None, the\n        standard random.random will be used.\n    \n    triangular(low=0.0, high=1.0, mode=None) method of Random instance\n        Triangular distribution.\n        \n        Continuous distribution bounded by given lower and upper limits,\n        and having a given mode value in-between.\n        \n        http://en.wikipedia.org/wiki/Triangular_distribution\n    \n    uniform(a, b) method of Random instance\n        Get a random number in the range [a, b) or [a, b] depending on rounding.\n    \n    vonmisesvariate(mu, kappa) method of Random instance\n        Circular data distribution.\n        \n        mu is the mean angle, expressed in radians between 0 and 2*pi, and\n        kappa is the concentration parameter, which must be greater than or\n        equal to zero.  If kappa is equal to zero, this distribution reduces\n        to a uniform random angle over the range 0 to 2*pi.\n    \n    weibullvariate(alpha, beta) method of Random instance\n        Weibull distribution.\n        \n        alpha is the scale parameter and beta is the shape parameter.\n\nDATA\n    __all__ = ['Random', 'seed', 'random', 'uniform', 'randint', 'choice',...\n\nFILE\n    /home/nbuser/anaconda3_501/lib/python3.6/random.py\n\n\n"
        }
      ]
    },
    {
      "metadata": {
        "trusted": false
      },
      "cell_type": "code",
      "source": "from random import random\ndef multi_trial(plist):\n    r=random()\n    for i in range(len(plist)):\n        if r>sum(plist[0:i]) and r<sum(plist[0:i+1]):return i+1\n    return len(plist)+1\n\nplist=[0.1,0.1,0.1,0.1,0.1]\nrlist=[multi_trial(plist) for i in range(100000)]\nprint(rlist.count(6))",
      "execution_count": 54,
      "outputs": [
        {
          "name": "stdout",
          "output_type": "stream",
          "text": "49989\n"
        }
      ]
    },
    {
      "metadata": {
        "trusted": false
      },
      "cell_type": "code",
      "source": "",
      "execution_count": null,
      "outputs": []
    },
    {
      "metadata": {},
      "cell_type": "markdown",
      "source": "某個月的13號如果是星期五我們稱之為黑色星期五，請寫一個程式，輸入一個西元年份，然後輸出此年份哪幾個月有黑色星期五。\n\n例如: 西元2018年的四月與七月13號是星期五；若輸入為 2018 則輸出 [4,7]。"
    },
    {
      "metadata": {
        "trusted": false
      },
      "cell_type": "code",
      "source": "def weekday(year, month, day):\n    if month>2:\n        month -= 2\n    else:\n        year,month = year-1, month+10\n    return (year + year//4 - year//100 + year//400 + int(30.6*month-30.1) + day + 2)%7\n\nn=int(input('請輸入西元年份:'))\nprint('%d 年黑色星期五的月份列表:'%n,[i for i in range(1,13) if weekday(n,i,13)==5])",
      "execution_count": null,
      "outputs": []
    },
    {
      "metadata": {
        "trusted": false
      },
      "cell_type": "code",
      "source": "def weekday(year, month, day):\n    year,month = (year*12+month-3)//12,(year*12+month-3)%12+1\n    return (year + year//4 - year//100 + year//400 + int(30.6*month-30.1) + day + 2)%7\n\nn=int(input('請輸入西元年份:'))\nprint('%d 年黑色星期五的月份列表:'%n,[i for i in range(1,13) if weekday(n,i,13)==5])",
      "execution_count": null,
      "outputs": []
    },
    {
      "metadata": {},
      "cell_type": "markdown",
      "source": "請寫一個程式，輸入一個整數 $n$ (絕對值不大於70)，算出矩陣 $$A_n=\\begin{bmatrix}\n1 & 1\\\\ \n1 & 0\n\\end{bmatrix}^n$$\n\n例如: 若輸入為 2 則輸出 [[2,1],[1,1]]；若輸入為 0 則輸出 [[1,0],[0,1]]；若輸入為 -1 則輸出 [[0,1],[1,-1]]"
    },
    {
      "metadata": {
        "trusted": false
      },
      "cell_type": "code",
      "source": "def fib(n):\n    if n==0 or n==1 : return n\n    if n<0 : return (2*(n%2)-1)*fib(-n)\n    a,b = 0,1    \n    for i in range(n-1):\n        a,b = b,a+b\n    return b\n\nn = int(input('請輸入矩陣次方:'))\nprint('矩陣 A_{%d} ='%n,[[fib(n+1),fib(n)],[fib(n),fib(n-1)]])",
      "execution_count": null,
      "outputs": []
    },
    {
      "metadata": {
        "trusted": false
      },
      "cell_type": "code",
      "source": "def fib(n): # abs(n) should be <=70. Otherwise, the function value is not correct.\n    if n<0 : return (2*(n%2)-1)*fib(-n)\n    return int((((1+5**0.5)/2)**n-((1-5**0.5)/2)**n)/5**0.5)\n\nn = int(input('請輸入矩陣次方:'))\nprint('矩陣 A_{%d} ='%n,[[fib(n+1),fib(n)],[fib(n),fib(n-1)]])",
      "execution_count": null,
      "outputs": []
    },
    {
      "metadata": {
        "trusted": false
      },
      "cell_type": "code",
      "source": "n = int(input('請輸入矩陣次方:')) # abs(n) should be <=70. Otherwise, the function value is not correct.\nfib = lambda n: (2*(n%2)-1)*fib(-n) if n<0 else int((((1+5**0.5)/2)**n-((1-5**0.5)/2)**n)/5**0.5)\nprint('矩陣 A_{%d} ='%n,[[fib(n+1),fib(n)],[fib(n),fib(n-1)]])",
      "execution_count": null,
      "outputs": []
    },
    {
      "metadata": {
        "trusted": false
      },
      "cell_type": "code",
      "source": "n = int(input('請輸入矩陣次方:'))\na = [[1,0],[0,1]]\nif n>=0:\n    for i in range(n):\n        a = [[a[0][0]+a[0][1], a[0][0]], [a[0][0], a[1][0]]]\nelse:\n    for i in range(-n):\n        a = [[a[0][1], a[1][1]], [a[1][1], a[1][0]-a[1][1]]]\nprint('矩陣 A_{%d} ='%n,a)",
      "execution_count": null,
      "outputs": []
    },
    {
      "metadata": {
        "trusted": false
      },
      "cell_type": "code",
      "source": "n = int(input('請輸入矩陣次方:'))\na = [[1,0],[0,1]]\ns = 0 if n>=0 else 1\nfor i in range(abs(n)):\n    a = [[a[0][0]*(1-s)+a[0][1], a[s][s]], [a[s][s], a[1][0]-a[1][1]*s]]\nprint('矩陣 A_{%d} ='%n,a)",
      "execution_count": null,
      "outputs": []
    },
    {
      "metadata": {},
      "cell_type": "markdown",
      "source": "請寫一個程式，輸入兩個正整數 $n$ 與 $d$，輸出方程式 $$ x_1+x_2+\\cdots+x_n = d $$ 的非負整數解的個數。\n\n例如: 若輸入為 2 5 則輸出 6；若輸入為 7 1 則輸出 7；若輸入為 3 3 則輸出 10。"
    },
    {
      "metadata": {
        "trusted": false
      },
      "cell_type": "code",
      "source": "def Cnk(n,k):    \n    k = k if k+k<n else n-k\n    ans = 1\n    for i in range(k):\n        ans = ans*(n-i)//(i+1)\n    return ans\n\nn,d = map(int,input('請輸入變數個數與正整數d的值:').split())\nprint('非負整數解的個數:',Cnk(n+d-1,d))  # 重複選取 H(n,d) = C(n+d-1,d)",
      "execution_count": null,
      "outputs": []
    },
    {
      "metadata": {
        "trusted": false
      },
      "cell_type": "code",
      "source": "def Cnk(n,k):    \n    return 1 if k==0 else Cnk(n,k-1)*(n-k+1)//k\n\nn,d = map(int,input('請輸入變數個數與正整數d的值:').split())\nprint('非負整數解的個數:',Cnk(n+d-1,d))  # 重複選取 H(n,d) = C(n+d-1,d)",
      "execution_count": null,
      "outputs": []
    },
    {
      "metadata": {
        "trusted": false
      },
      "cell_type": "code",
      "source": "Cnk = lambda n,k: 1 if k==0 else Cnk(n,k-1)*(n-k+1)//k\n\nn,d = map(int,input('請輸入變數個數與正整數d的值:').split())\nprint('非負整數解的個數:',Cnk(n+d-1,d))  # 重複選取 H(n,d) = C(n+d-1,d)",
      "execution_count": null,
      "outputs": []
    },
    {
      "metadata": {},
      "cell_type": "markdown",
      "source": "請寫一個程式，輸入一個大於1的正整數  n  (<50000)，請找出分母不大於  n  的分數中最接近圓周率 π∼3.141592653589793  的分數\n\n例如: 若輸入為 50 則輸出 22/7；若輸入為 500 則輸出 355/113。"
    },
    {
      "metadata": {
        "trusted": false
      },
      "cell_type": "code",
      "source": "n = int(input('請輸入分母上界(正整數):'))\np = 3.141592653589793\ndiff,nu,de = 1,1,1\nfor i in range(1,n+1):\n    ti=p*i\n    j = int(ti) if ti<(int(ti)+0.5) else int(ti)+1\n    if abs(p-j/i)<diff:\n        diff,nu,de = abs(p-j/i),j,i\nprint(nu,'/',de,'約為', nu/de, '， 跟圓周率(%s)誤差約為'%str(p), abs(diff))",
      "execution_count": null,
      "outputs": []
    },
    {
      "metadata": {
        "trusted": false
      },
      "cell_type": "code",
      "source": "n = int(input('請輸入分母上界(正整數):'))\np = 3.141592653589793\nlst=[[p-int(i*p)/i,int(i*p),i] for i in range(1,n+1)]+[[int(1+i*p)/i-p,int(1+i*p),i] for i in range(1,n+1)]\nprint(min(lst))",
      "execution_count": null,
      "outputs": []
    },
    {
      "metadata": {
        "trusted": false
      },
      "cell_type": "code",
      "source": "n = int(input('請輸入分母上界(正整數):'))\np = 3.141592653589793\nlst=[[int(i*p),i,p-int(i*p)/i] for i in range(1,n+1)]+[[int(1+i*p),i,int(1+i*p)/i-p] for i in range(1,n+1)]\nprint(min(lst, key = lambda x:x[2]))",
      "execution_count": null,
      "outputs": []
    },
    {
      "metadata": {
        "trusted": false
      },
      "cell_type": "code",
      "source": "n = int(input('請輸入分母上界(正整數):'))\np = 3.141592653589793\nlst=[[round(i*p),i,abs(p-round(i*p)/i)] for i in range(1,n+1)]\nprint(min(lst, key = lambda x:x[2]))\nprint(' / '.join(map(str,min(lst, key = lambda x:x[2])[0:2])))",
      "execution_count": 1,
      "outputs": [
        {
          "name": "stdout",
          "output_type": "stream",
          "text": "請輸入分母上界(正整數):10\n[22, 7, 0.0012644892673496777]\n22 / 7\n"
        }
      ]
    },
    {
      "metadata": {
        "trusted": false
      },
      "cell_type": "code",
      "source": "from math import log\nn = int(input('請輸入分母上界(正整數):'))\np = log(5)/log(3)\nlst=[[round(i*p),i,abs(p-round(i*p)/i)] for i in range(1,n+1)]\nprint(min(lst, key = lambda x:x[2]))\nprint(' / '.join(map(str,min(lst, key = lambda x:x[2])[0:2])))",
      "execution_count": 41,
      "outputs": [
        {
          "name": "stdout",
          "output_type": "stream",
          "text": "請輸入分母上界(正整數):8\n[3, 2, 0.03502647928207314]\n3 / 2\n"
        }
      ]
    },
    {
      "metadata": {
        "trusted": false
      },
      "cell_type": "code",
      "source": "print(3**5,2**8,3**5/(3**5-2**8))",
      "execution_count": 35,
      "outputs": [
        {
          "name": "stdout",
          "output_type": "stream",
          "text": "243 256 -18.692307692307693\n"
        }
      ]
    },
    {
      "metadata": {},
      "cell_type": "markdown",
      "source": "請寫一個程式，輸入一個大於1的正整數 $n$ ($<10000$)，輸出 $\\frac{1}{n}$ 化成循環小數的循環節長度。\n\n例如: $\\frac{1}{3}$的循環節長度是 1，$\\frac{1}{4}$的循環節長度是 0，$\\frac{1}{6}$的循環節長度是 1，$\\frac{1}{7}$的循環節長度是 6。若輸入為 3 則輸出 1，若輸入為 7 則輸出 6。"
    },
    {
      "metadata": {
        "trusted": false
      },
      "cell_type": "code",
      "source": "n = int(input('請輸入分母(正整數):'))\nprint('1/%d'%n,end=' ')\nwhile (n%2==0): n //= 2\nwhile (n%5==0): n //= 5\nr = 0 if n==0 else 1\nwhile( (10**r-1)%n != 0 ): r += 1\nprint('的循環節長度是',r)",
      "execution_count": null,
      "outputs": []
    },
    {
      "metadata": {
        "trusted": false
      },
      "cell_type": "code",
      "source": "n = int(input('請輸入分母(正整數):'))\nql=[]\nrl=[1]\nql.append(rl[-1]*10//n)\nrl.append(rl[-1]*10%n)\nwhile (rl[-1] not in rl[0:-1]):\n    ql.append(rl[-1]*10//n)\n    rl.append(rl[-1]*10%n)\n    \nr = 0 if 0 in rl else len(rl)-rl.index(rl[-1])-1\nprint(ql,rl)\nprint('1/%d 的循環節長度是'%n,r)",
      "execution_count": null,
      "outputs": []
    },
    {
      "metadata": {},
      "cell_type": "markdown",
      "source": "請寫一個程式，輸入坐標空間中平面方程式 $ax+by+cz=d$ 的四個係數 $a,b,c,d$ (假設均不為零), 平面分別交$x$軸、$y$軸、$z$軸於$A$點、$B$點、$C$點，輸出三角形$ABC$的面積。(輸入輸出皆可用浮點數)\n\n例如: $x+y+z=2$ 交$x$軸、$y$軸、$z$軸於點$A=(2,0,0)$、點$B=(0,2,0)$、點$C=(0,0,2)$，正三角形$ABC$的邊長是 $2\\sqrt{2}$ ，三角形  $ABC$ 的面積是 $2\\sqrt{3}$，若輸入為 1 1 1 2，則輸出 3.4641016151377544；若輸入為 1 2 3 6，則輸出 11.224972160321824。"
    },
    {
      "metadata": {
        "trusted": false
      },
      "cell_type": "code",
      "source": "a,b,c,d = map(float,input('請輸入係數a b c d:').split()) # ax+by+cz=d  a,b,c均不為零\ntup = (d/a,d/b,d/c)\nprint('三角形 ABC 的面積:',0.5* (sum([(tup[i-1]*tup[i])**2 for i in range(3)]))**0.5 )",
      "execution_count": null,
      "outputs": []
    },
    {
      "metadata": {
        "trusted": true
      },
      "cell_type": "code",
      "source": "help(\"math\")",
      "execution_count": 1,
      "outputs": [
        {
          "output_type": "stream",
          "text": "Help on module math:\n\nNAME\n    math\n\nMODULE REFERENCE\n    https://docs.python.org/3.6/library/math\n    \n    The following documentation is automatically generated from the Python\n    source files.  It may be incomplete, incorrect or include features that\n    are considered implementation detail and may vary between Python\n    implementations.  When in doubt, consult the module reference at the\n    location listed above.\n\nDESCRIPTION\n    This module is always available.  It provides access to the\n    mathematical functions defined by the C standard.\n\nFUNCTIONS\n    acos(...)\n        acos(x)\n        \n        Return the arc cosine (measured in radians) of x.\n    \n    acosh(...)\n        acosh(x)\n        \n        Return the inverse hyperbolic cosine of x.\n    \n    asin(...)\n        asin(x)\n        \n        Return the arc sine (measured in radians) of x.\n    \n    asinh(...)\n        asinh(x)\n        \n        Return the inverse hyperbolic sine of x.\n    \n    atan(...)\n        atan(x)\n        \n        Return the arc tangent (measured in radians) of x.\n    \n    atan2(...)\n        atan2(y, x)\n        \n        Return the arc tangent (measured in radians) of y/x.\n        Unlike atan(y/x), the signs of both x and y are considered.\n    \n    atanh(...)\n        atanh(x)\n        \n        Return the inverse hyperbolic tangent of x.\n    \n    ceil(...)\n        ceil(x)\n        \n        Return the ceiling of x as an Integral.\n        This is the smallest integer >= x.\n    \n    copysign(...)\n        copysign(x, y)\n        \n        Return a float with the magnitude (absolute value) of x but the sign \n        of y. On platforms that support signed zeros, copysign(1.0, -0.0) \n        returns -1.0.\n    \n    cos(...)\n        cos(x)\n        \n        Return the cosine of x (measured in radians).\n    \n    cosh(...)\n        cosh(x)\n        \n        Return the hyperbolic cosine of x.\n    \n    degrees(...)\n        degrees(x)\n        \n        Convert angle x from radians to degrees.\n    \n    erf(...)\n        erf(x)\n        \n        Error function at x.\n    \n    erfc(...)\n        erfc(x)\n        \n        Complementary error function at x.\n    \n    exp(...)\n        exp(x)\n        \n        Return e raised to the power of x.\n    \n    expm1(...)\n        expm1(x)\n        \n        Return exp(x)-1.\n        This function avoids the loss of precision involved in the direct evaluation of exp(x)-1 for small x.\n    \n    fabs(...)\n        fabs(x)\n        \n        Return the absolute value of the float x.\n    \n    factorial(...)\n        factorial(x) -> Integral\n        \n        Find x!. Raise a ValueError if x is negative or non-integral.\n    \n    floor(...)\n        floor(x)\n        \n        Return the floor of x as an Integral.\n        This is the largest integer <= x.\n    \n    fmod(...)\n        fmod(x, y)\n        \n        Return fmod(x, y), according to platform C.  x % y may differ.\n    \n    frexp(...)\n        frexp(x)\n        \n        Return the mantissa and exponent of x, as pair (m, e).\n        m is a float and e is an int, such that x = m * 2.**e.\n        If x is 0, m and e are both 0.  Else 0.5 <= abs(m) < 1.0.\n    \n    fsum(...)\n        fsum(iterable)\n        \n        Return an accurate floating point sum of values in the iterable.\n        Assumes IEEE-754 floating point arithmetic.\n    \n    gamma(...)\n        gamma(x)\n        \n        Gamma function at x.\n    \n    gcd(...)\n        gcd(x, y) -> int\n        greatest common divisor of x and y\n    \n    hypot(...)\n        hypot(x, y)\n        \n        Return the Euclidean distance, sqrt(x*x + y*y).\n    \n    isclose(...)\n        isclose(a, b, *, rel_tol=1e-09, abs_tol=0.0) -> bool\n        \n        Determine whether two floating point numbers are close in value.\n        \n           rel_tol\n               maximum difference for being considered \"close\", relative to the\n               magnitude of the input values\n            abs_tol\n               maximum difference for being considered \"close\", regardless of the\n               magnitude of the input values\n        \n        Return True if a is close in value to b, and False otherwise.\n        \n        For the values to be considered close, the difference between them\n        must be smaller than at least one of the tolerances.\n        \n        -inf, inf and NaN behave similarly to the IEEE 754 Standard.  That\n        is, NaN is not close to anything, even itself.  inf and -inf are\n        only close to themselves.\n    \n    isfinite(...)\n        isfinite(x) -> bool\n        \n        Return True if x is neither an infinity nor a NaN, and False otherwise.\n    \n    isinf(...)\n        isinf(x) -> bool\n        \n        Return True if x is a positive or negative infinity, and False otherwise.\n    \n    isnan(...)\n        isnan(x) -> bool\n        \n        Return True if x is a NaN (not a number), and False otherwise.\n    \n    ldexp(...)\n        ldexp(x, i)\n        \n        Return x * (2**i).\n    \n    lgamma(...)\n        lgamma(x)\n        \n        Natural logarithm of absolute value of Gamma function at x.\n    \n    log(...)\n        log(x[, base])\n        \n        Return the logarithm of x to the given base.\n        If the base not specified, returns the natural logarithm (base e) of x.\n    \n    log10(...)\n        log10(x)\n        \n        Return the base 10 logarithm of x.\n    \n    log1p(...)\n        log1p(x)\n        \n        Return the natural logarithm of 1+x (base e).\n        The result is computed in a way which is accurate for x near zero.\n    \n    log2(...)\n        log2(x)\n        \n        Return the base 2 logarithm of x.\n    \n    modf(...)\n        modf(x)\n        \n        Return the fractional and integer parts of x.  Both results carry the sign\n        of x and are floats.\n    \n    pow(...)\n        pow(x, y)\n        \n        Return x**y (x to the power of y).\n    \n    radians(...)\n        radians(x)\n        \n        Convert angle x from degrees to radians.\n    \n    sin(...)\n        sin(x)\n        \n        Return the sine of x (measured in radians).\n    \n    sinh(...)\n        sinh(x)\n        \n        Return the hyperbolic sine of x.\n    \n    sqrt(...)\n        sqrt(x)\n        \n        Return the square root of x.\n    \n    tan(...)\n        tan(x)\n        \n        Return the tangent of x (measured in radians).\n    \n    tanh(...)\n        tanh(x)\n        \n        Return the hyperbolic tangent of x.\n    \n    trunc(...)\n        trunc(x:Real) -> Integral\n        \n        Truncates x to the nearest Integral toward 0. Uses the __trunc__ magic method.\n\nDATA\n    e = 2.718281828459045\n    inf = inf\n    nan = nan\n    pi = 3.141592653589793\n    tau = 6.283185307179586\n\nFILE\n    /home/nbuser/anaconda3_501/lib/python3.6/lib-dynload/math.cpython-36m-x86_64-linux-gnu.so\n\n\n",
          "name": "stdout"
        }
      ]
    },
    {
      "metadata": {
        "trusted": true
      },
      "cell_type": "code",
      "source": "",
      "execution_count": null,
      "outputs": []
    }
  ],
  "metadata": {
    "kernelspec": {
      "name": "python36",
      "display_name": "Python 3.6",
      "language": "python"
    },
    "language_info": {
      "mimetype": "text/x-python",
      "nbconvert_exporter": "python",
      "name": "python",
      "pygments_lexer": "ipython3",
      "version": "3.6.6",
      "file_extension": ".py",
      "codemirror_mode": {
        "version": 3,
        "name": "ipython"
      }
    }
  },
  "nbformat": 4,
  "nbformat_minor": 2
}
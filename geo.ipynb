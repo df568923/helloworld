{
  "cells": [
    {
      "metadata": {
        "trusted": true
      },
      "cell_type": "code",
      "source": "x0=tuple(map(float,input().split()))\nx1=tuple(map(float,input().split()))\nx2=tuple(map(float,input().split()))\nx3=tuple(map(float,input().split()))\n\nA1=tuple(x1[i]-x0[i] for i in range(3))\nA2=tuple(x2[i]-x0[i] for i in range(3))\nA3=tuple(x3[i]-x0[i] for i in range(3))\n\ndef dot(A1,A2):\n    return sum(tuple(A1[i]*A2[i] for i in range(3)))\n\ndef extP(A1,A2):\n    return tuple(A1[i-2]*A2[i-1]-A1[i-1]*A2[i-2] for i in range(3))\n\ndef det(A1,A2,A3):\n    return (dot(A1,extP(A2,A3)))\n\nprint(det(A1,A2,A3)/6)",
      "execution_count": null,
      "outputs": []
    },
    {
      "metadata": {
        "trusted": true
      },
      "cell_type": "code",
      "source": "",
      "execution_count": null,
      "outputs": []
    },
    {
      "metadata": {
        "trusted": true
      },
      "cell_type": "code",
      "source": "",
      "execution_count": null,
      "outputs": []
    }
  ],
  "metadata": {
    "kernelspec": {
      "name": "python36",
      "display_name": "Python 3.6",
      "language": "python"
    },
    "language_info": {
      "mimetype": "text/x-python",
      "nbconvert_exporter": "python",
      "name": "python",
      "pygments_lexer": "ipython3",
      "version": "3.6.6",
      "file_extension": ".py",
      "codemirror_mode": {
        "version": 3,
        "name": "ipython"
      }
    }
  },
  "nbformat": 4,
  "nbformat_minor": 2
}